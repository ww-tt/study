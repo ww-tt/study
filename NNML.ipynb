{
 "cells": [
  {
   "cell_type": "code",
   "execution_count": 30,
   "metadata": {},
   "outputs": [],
   "source": [
    "import numpy as np\n",
    "import torch\n",
    "import torch.nn as nn\n",
    "import torch.optim as optim\n",
    "from tqdm import tqdm\n",
    "from torch.autograd import Variable\n",
    "dtype = torch.FloatTensor"
   ]
  },
  {
   "cell_type": "code",
   "execution_count": 31,
   "metadata": {},
   "outputs": [],
   "source": [
    "sentences = ['i like dog','i love coffee','i hate milk','i like nlp']\n",
    "\n",
    "word_list = ' '.join(sentences).split()\n",
    "word_list = list(set(word_list))    \n",
    "# print(word_list)\n",
    "\n",
    "# create dict\n",
    "word_dict = {w:i for i,w in enumerate(word_list)}   \n",
    "number_dict = {i:w for i ,w in enumerate(word_list)}\n",
    "# print(word_dict)\n",
    "# print(number_dict)"
   ]
  },
  {
   "cell_type": "code",
   "execution_count": 32,
   "metadata": {},
   "outputs": [],
   "source": [
    "n_num = len(word_dict)                           #dict length"
   ]
  },
  {
   "cell_type": "code",
   "execution_count": 61,
   "metadata": {},
   "outputs": [
    {
     "name": "stdout",
     "output_type": "stream",
     "text": [
      "epoch: 1000 cost = 1.363340\n",
      "epoch: 2000 cost = 0.581180\n",
      "epoch: 3000 cost = 0.413003\n",
      "epoch: 4000 cost = 0.376426\n",
      "epoch: 5000 cost = 0.362538\n",
      "[['i', 'like'], ['i', 'love'], ['i', 'hate'], ['i', 'like']] -> ['nlp', 'coffee', 'milk', 'nlp']\n"
     ]
    }
   ],
   "source": [
    "m = 2                                            #Vector dimension of words\n",
    "\n",
    "def make_batch(sentence):\n",
    "    input_batch = []\n",
    "    target_batch = []\n",
    "    \n",
    "    for sen in sentence:\n",
    "        word = sen.split()\n",
    "        input = [word_dict[n] for n in word[:-1]]  #word->id\n",
    "        target = word_dict[word[-1]]\n",
    "        input_batch.append(input)\n",
    "        target_batch.append(target)\n",
    "    return input_batch,target_batch\n",
    "\n",
    "n_step = 2       #2gram\n",
    "n_hidden = 2\n",
    "\n",
    "class NNLM(nn.Module):\n",
    "    def __init__(self):\n",
    "        super(NNLM, self).__init__()\n",
    "        self.embed = nn.Embedding(n_num, m)     #input id ,output vector\n",
    "#         parameter \n",
    "        self.W = nn.Parameter(torch.randn(n_step * m, n_hidden).type(dtype))\n",
    "        self.d = nn.Parameter(torch.randn(n_hidden).type(dtype))\n",
    "        self.U = nn.Parameter(torch.randn(n_hidden, n_num).type(dtype))\n",
    "        self.b = nn.Parameter(torch.randn(n_num).type(dtype))\n",
    "            \n",
    "    def forward(self, x):\n",
    "        x = self.embed(x)  # 4 * 2 * 2\n",
    "        x = x.view(-1, n_step * m)\n",
    "        tanh = torch.tanh(torch.mm(x, self.W) + self.d)  #4 * 2 \n",
    "        output = self.b + torch.mm(tanh, self.U)\n",
    "        return output\n",
    "\n",
    "model = NNLM()\n",
    "\n",
    "criterion = nn.CrossEntropyLoss()\n",
    "optimizer = optim.Adam(model.parameters(), lr = 0.001)  #optimizer\n",
    "\n",
    "# traning\n",
    "input_batch, target_batch = make_batch(sentences)\n",
    "input_batch = Variable(torch.LongTensor(input_batch))\n",
    "target_batch = Variable(torch.LongTensor(target_batch))\n",
    "\n",
    "for epoch in range(5000):\n",
    "    optimizer.zero_grad()\n",
    "    \n",
    "    output = model(input_batch)   # input 4 * 2\n",
    "    \n",
    "    loss = criterion(output, target_batch)\n",
    "    \n",
    "    if (epoch + 1) % 1000 == 0:\n",
    "        print('epoch:','%04d' %(epoch + 1), 'cost = {:.6f}'.format(loss.item()))\n",
    "    \n",
    "    loss.backward()\n",
    "    optimizer.step()\n",
    "    \n",
    "# predict\n",
    "predict = model(input_batch).data.max(1, keepdim = True)[1]\n",
    "\n",
    "print([sen.split()[:2] for sen in sentences], '->', [number_dict[n.item()] for n in predict.squeeze()])"
   ]
  },
  {
   "cell_type": "code",
   "execution_count": null,
   "metadata": {},
   "outputs": [],
   "source": []
  },
  {
   "cell_type": "code",
   "execution_count": null,
   "metadata": {},
   "outputs": [],
   "source": []
  }
 ],
 "metadata": {
  "kernelspec": {
   "display_name": "Python 3",
   "language": "python",
   "name": "python3"
  },
  "language_info": {
   "codemirror_mode": {
    "name": "ipython",
    "version": 3
   },
   "file_extension": ".py",
   "mimetype": "text/x-python",
   "name": "python",
   "nbconvert_exporter": "python",
   "pygments_lexer": "ipython3",
   "version": "3.7.3"
  }
 },
 "nbformat": 4,
 "nbformat_minor": 2
}
